{
 "cells": [
  {
   "cell_type": "code",
   "execution_count": 1,
   "id": "8e6cf2dc-5e08-4f32-9807-d16c79206524",
   "metadata": {},
   "outputs": [],
   "source": [
    "import sys\n",
    "\n",
    "import requests\n",
    "from bs4 import BeautifulSoup\n",
    "import re\n",
    "import unicodedata\n",
    "import pandas as pd"
   ]
  },
  {
   "cell_type": "code",
   "execution_count": 2,
   "id": "edc07197-a4ff-4042-a31e-4896c88e3247",
   "metadata": {},
   "outputs": [],
   "source": [
    "plate_dict = {}\n",
    "img_link_list = []"
   ]
  },
  {
   "cell_type": "code",
   "execution_count": 3,
   "id": "81ec0574-144f-4ac8-99ee-eba44048d1cc",
   "metadata": {},
   "outputs": [],
   "source": [
    "a_list_char_str = []\n",
    "a_list_img_str = []\n",
    "char_list = []\n",
    "img_name_list = []"
   ]
  },
  {
   "cell_type": "code",
   "execution_count": 4,
   "id": "c64ad220-6de7-4c29-a4a9-1293cb1c3d7c",
   "metadata": {},
   "outputs": [],
   "source": [
    "for j in range(1,100):\n",
    "    url = \"https://platesmania.com/uz/gallery-\"+str(j)\n",
    "    agent = {\"User-Agent\":'Mozilla/5.0 (Windows NT 6.3; WOW64) AppleWebKit/537.36 (KHTML, like Gecko) Chrome/59.0.3071.115 Safari/537.36'}\n",
    "    page = requests.get(url, headers=agent).text\n",
    "    soup = BeautifulSoup(page, 'html5lib')\n",
    "    a_list_char = soup.find_all('img', {\"class\":\"img-responsive center-block margin-bottom-10\"})\n",
    "    a_list_img = soup.find_all('img', {\"class\":\"img-responsive center-block\"}, limit = 10)\n",
    "    for a in a_list_char:\n",
    "        a_list_char_str.append(str(a))\n",
    "    for a in a_list_img:\n",
    "        a_list_img_str.append(str(a))\n",
    "    for string in a_list_char_str:\n",
    "        char_list.append(string[string.index('=')+2:string.index('\" ')])\n",
    "    for string in a_list_img_str:\n",
    "        img_link_list.append(string[string.index('src=')+5:len(string)-3])\n",
    "        img_name_list.append(img_link_list[-1][len(img_link_list[-1]) - 12::])\n",
    "    for i in range(len(char_list)):\n",
    "        plate_dict[img_name_list[i]] = char_list[i]\n",
    "    a_list_char_str.clear()\n",
    "    a_list_img_str.clear()\n",
    "    char_list.clear()\n",
    "    img_name_list.clear()\n",
    "    a_list_char.clear()\n",
    "    a_list_img.clear()"
   ]
  },
  {
   "cell_type": "code",
   "execution_count": 5,
   "id": "80adca3c-7d4a-4b23-8e59-876573009438",
   "metadata": {},
   "outputs": [
    {
     "name": "stdout",
     "output_type": "stream",
     "text": [
      "(990, 2)\n",
      "       FileName        Plate\n",
      "0  17746846.jpg   90 102 WAA\n",
      "1  17746598.jpg  40 X 507 CA\n",
      "2  17743850.jpg  80 X 599 PA\n",
      "3  17743806.jpg   0672 BA 01\n",
      "4  17743802.jpg  01 H 462 HB\n"
     ]
    }
   ],
   "source": [
    "df_pair = pd.DataFrame(plate_dict.items(), columns=['FileName', 'Plate'])\n",
    "df_pair = df_pair.drop_duplicates()\n",
    "print(df_pair.shape)\n",
    "print(df_pair.head())"
   ]
  },
  {
   "cell_type": "code",
   "execution_count": 6,
   "id": "357745d3-29f8-406c-80d1-1f0553e6f642",
   "metadata": {},
   "outputs": [
    {
     "name": "stdout",
     "output_type": "stream",
     "text": [
      "(999, 1)\n",
      "                                               Links\n",
      "0  http://img03.platesmania.com/211014/m/17746846...\n",
      "1  http://img03.platesmania.com/211014/m/17746598...\n",
      "2  http://img03.platesmania.com/211013/m/17743850...\n",
      "3  http://img03.platesmania.com/211013/m/17743806...\n",
      "4  http://img03.platesmania.com/211013/m/17743802...\n"
     ]
    }
   ],
   "source": [
    "df_link = pd.DataFrame(img_link_list, columns=['Links'])\n",
    "df_link = df_link.drop_duplicates()\n",
    "print(df_link.shape)\n",
    "print(df_link.head())"
   ]
  },
  {
   "cell_type": "code",
   "execution_count": 7,
   "id": "7d9f0c43-1c62-422c-9621-a64f1439c794",
   "metadata": {},
   "outputs": [],
   "source": [
    "df_pair.to_csv('pairs1.csv')\n",
    "df_link.to_csv('links1.csv')"
   ]
  },
  {
   "cell_type": "code",
   "execution_count": null,
   "id": "514427ce-1646-4f44-84ce-5a9fa351c2f8",
   "metadata": {},
   "outputs": [],
   "source": []
  }
 ],
 "metadata": {
  "kernelspec": {
   "display_name": "Python 3",
   "language": "python",
   "name": "python3"
  },
  "language_info": {
   "codemirror_mode": {
    "name": "ipython",
    "version": 3
   },
   "file_extension": ".py",
   "mimetype": "text/x-python",
   "name": "python",
   "nbconvert_exporter": "python",
   "pygments_lexer": "ipython3",
   "version": "3.9.8"
  }
 },
 "nbformat": 4,
 "nbformat_minor": 5
}
