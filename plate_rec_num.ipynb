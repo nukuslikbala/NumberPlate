{
 "cells": [
  {
   "cell_type": "code",
   "execution_count": 1,
   "id": "7423ca91-50fd-4e58-a790-32220c5271ff",
   "metadata": {},
   "outputs": [],
   "source": [
    "# Import libraries\n",
    "from keras.models import load_model\n",
    "from PIL import Image, ImageOps\n",
    "import numpy as np\n",
    "from IPython import display"
   ]
  },
  {
   "cell_type": "code",
   "execution_count": 2,
   "id": "5af53609-f595-4e6a-8dc7-a9798ff9848a",
   "metadata": {},
   "outputs": [
    {
     "name": "stdout",
     "output_type": "stream",
     "text": [
      "WARNING:tensorflow:No training configuration found in the save file, so the model was *not* compiled. Compile it manually.\n"
     ]
    }
   ],
   "source": [
    "# Load the created model\n",
    "model = load_model('numeric_model.h5')"
   ]
  },
  {
   "cell_type": "code",
   "execution_count": 3,
   "id": "64819066-8306-459b-85e2-26a4dcaeb7ea",
   "metadata": {},
   "outputs": [],
   "source": [
    "# Create the array of the right shape to feed into the keras model\n",
    "data = np.ndarray(shape=(1, 224, 224, 3), dtype=np.float32)"
   ]
  },
  {
   "cell_type": "markdown",
   "id": "e3b34453-0fd5-44b1-a27c-d3780a95a1b6",
   "metadata": {},
   "source": [
    "<H3>Input Image File:</H3>"
   ]
  },
  {
   "cell_type": "code",
   "execution_count": 49,
   "id": "9ff50b6b-8bad-43dd-8cbb-bc94fa25880d",
   "metadata": {},
   "outputs": [],
   "source": [
    "image_path = 'test_digits/7_06.jpg'"
   ]
  },
  {
   "cell_type": "code",
   "execution_count": 50,
   "id": "5ceadb27-a900-40d6-80ee-44f4c6741765",
   "metadata": {},
   "outputs": [],
   "source": [
    "image = Image.open(image_path).convert('RGB')"
   ]
  },
  {
   "cell_type": "code",
   "execution_count": 51,
   "id": "ed270242-3128-4c8e-8113-ed23eecac39f",
   "metadata": {},
   "outputs": [],
   "source": [
    "# Resize the image to a 224x224:\n",
    "size = (224, 224)\n",
    "image = ImageOps.fit(image, size, Image.ANTIALIAS)"
   ]
  },
  {
   "cell_type": "code",
   "execution_count": 52,
   "id": "3d494230-afda-49e0-91cc-30a945a8c412",
   "metadata": {},
   "outputs": [],
   "source": [
    "# Turn the image into a numpy array\n",
    "image_array = np.asarray(image)\n",
    "\n",
    "# Normalize the image\n",
    "normalized_image_array = (image_array.astype(np.float32) / 127.0) - 1\n",
    "\n",
    "# Load the image into the array\n",
    "data[0] = normalized_image_array"
   ]
  },
  {
   "cell_type": "code",
   "execution_count": 53,
   "id": "9513b02a-7346-4e54-b87a-7d632dd79711",
   "metadata": {},
   "outputs": [],
   "source": [
    "# Predict\n",
    "prediction = model.predict(data)"
   ]
  },
  {
   "cell_type": "code",
   "execution_count": 54,
   "id": "2c3c8acb-717e-4dc4-b6ab-f80652c5a5d7",
   "metadata": {},
   "outputs": [
    {
     "name": "stdout",
     "output_type": "stream",
     "text": [
      "\n",
      "Sorry, since the following image is recognized with low probability (< 0.6), we ignored the result. Recognized digit is: None\n",
      "\n"
     ]
    },
    {
     "data": {
      "image/jpeg": "[encoded data removed]",
      "text/plain": [
       "<IPython.core.display.Image object>"
      ]
     },
     "execution_count": 54,
     "metadata": {},
     "output_type": "execute_result"
    }
   ],
   "source": [
    "# Print corresponding label\n",
    "# Digits only\n",
    "for i in range(10):\n",
    "    if prediction[0][i] >= 0.6:\n",
    "        rec_digit = i\n",
    "        print()\n",
    "        print('The following image is recognized as', rec_digit, 'with probability of', round(prediction[0][i], 2))\n",
    "        break\n",
    "    elif i == 9: \n",
    "        rec_digit = None\n",
    "        print()\n",
    "        print(\"Sorry, since the following image is recognized with low probability (< 0.6), we ignored the result. Recognized digit is:\", rec_digit) \n",
    "        \n",
    "# Display Image\n",
    "print()\n",
    "display.Image(image_path)"
   ]
  },
  {
   "cell_type": "code",
   "execution_count": 55,
   "id": "497d3eac-32a5-40be-8355-86bd5d4001ab",
   "metadata": {},
   "outputs": [
    {
     "data": {
      "text/plain": [
       "array([1.5323244e-01, 8.3065279e-02, 1.5132983e-01, 8.2690427e-03,\n",
       "       1.1342165e-02, 1.1872059e-01, 2.2784344e-04, 4.6974212e-01,\n",
       "       1.8546412e-05, 4.0520723e-03], dtype=float32)"
      ]
     },
     "execution_count": 55,
     "metadata": {},
     "output_type": "execute_result"
    }
   ],
   "source": [
    "prediction[0]"
   ]
  },
  {
   "cell_type": "code",
   "execution_count": null,
   "id": "172e2a0c-91dd-43fa-81bd-2e9f33628947",
   "metadata": {},
   "outputs": [],
   "source": []
  },
  {
   "cell_type": "code",
   "execution_count": null,
   "id": "c3a56eaf-cd20-4120-afef-2430a028ebeb",
   "metadata": {},
   "outputs": [],
   "source": []
  }
 ],
 "metadata": {
  "kernelspec": {
   "display_name": "Python 3",
   "language": "python",
   "name": "python3"
  },
  "language_info": {
   "codemirror_mode": {
    "name": "ipython",
    "version": 3
   },
   "file_extension": ".py",
   "mimetype": "text/x-python",
   "name": "python",
   "nbconvert_exporter": "python",
   "pygments_lexer": "ipython3",
   "version": "3.9.8"
  }
 },
 "nbformat": 4,
 "nbformat_minor": 5
}
